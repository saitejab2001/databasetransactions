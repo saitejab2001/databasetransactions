{
 "cells": [
  {
   "cell_type": "code",
   "execution_count": 1,
   "id": "226d2bf4",
   "metadata": {},
   "outputs": [],
   "source": [
    "# Import the library\n",
    "import psycopg2\n",
    "\n",
    "# Connect to your PostgreSQL database\n",
    "conn = psycopg2.connect(\n",
    "    dbname=\"ARKushal_db\",\n",
    "    user=\"postgres\",\n",
    "    password=\"0987\",\n",
    "    host=\"localhost\"\n",
    ")\n",
    "\n",
    "# Create a cursor object\n",
    "cursor = conn.cursor()"
   ]
  },
  {
   "cell_type": "code",
   "execution_count": 2,
   "id": "122989ae",
   "metadata": {},
   "outputs": [],
   "source": [
    "def delete_product(product_id):\n",
    "    try:\n",
    "        # Start transaction\n",
    "        conn.autocommit = False\n",
    "\n",
    "        # Delete from Stock where product_id matches\n",
    "        cursor.execute(\"DELETE FROM Stock WHERE prod = %s;\", (product_id,))\n",
    "\n",
    "        # Delete from Product where product_id matches\n",
    "        cursor.execute(\"DELETE FROM Product WHERE prod = %s;\", (product_id,))\n",
    "\n",
    "        # Commit transaction\n",
    "        conn.commit()\n",
    "        print(\"Transaction completed successfully.\")\n",
    "    except Exception as e:\n",
    "        # Rollback in case of error\n",
    "        conn.rollback()\n",
    "        print(\"Transaction failed:\", e)\n"
   ]
  },
  {
   "cell_type": "code",
   "execution_count": 3,
   "id": "1b870b63",
   "metadata": {},
   "outputs": [],
   "source": [
    "def delete_depot(depot_id):\n",
    "    try:\n",
    "        # Start transaction\n",
    "        conn.autocommit = False\n",
    "\n",
    "        # Delete from Stock where depot_id matches\n",
    "        cursor.execute(\"DELETE FROM Stock WHERE dep = %s;\", (depot_id,))\n",
    "\n",
    "        # Delete from Depot where depot_id matches\n",
    "        cursor.execute(\"DELETE FROM Depot WHERE dep = %s;\", (depot_id,))\n",
    "\n",
    "        # Commit transaction\n",
    "        conn.commit()\n",
    "        print(\"Transaction completed successfully.\")\n",
    "    except Exception as e:\n",
    "        # Rollback in case of error\n",
    "        conn.rollback()\n",
    "        print(\"Transaction failed:\", e)"
   ]
  },
  {
   "cell_type": "code",
   "execution_count": 4,
   "id": "7a95ddae",
   "metadata": {},
   "outputs": [
    {
     "name": "stdout",
     "output_type": "stream",
     "text": [
      "Transaction completed successfully.\n",
      "Transaction completed successfully.\n"
     ]
    }
   ],
   "source": [
    "# Deleting product p1\n",
    "delete_product('p1')\n",
    "\n",
    "# Deleting depot d1\n",
    "delete_depot('d1')\n"
   ]
  },
  {
   "cell_type": "code",
   "execution_count": 5,
   "id": "c46df3e1",
   "metadata": {},
   "outputs": [],
   "source": [
    "cursor.close()\n",
    "conn.close()\n"
   ]
  },
  {
   "cell_type": "code",
   "execution_count": null,
   "id": "66cf008e",
   "metadata": {},
   "outputs": [],
   "source": []
  }
 ],
 "metadata": {
  "kernelspec": {
   "display_name": "Python 3 (ipykernel)",
   "language": "python",
   "name": "python3"
  },
  "language_info": {
   "codemirror_mode": {
    "name": "ipython",
    "version": 3
   },
   "file_extension": ".py",
   "mimetype": "text/x-python",
   "name": "python",
   "nbconvert_exporter": "python",
   "pygments_lexer": "ipython3",
   "version": "3.11.7"
  }
 },
 "nbformat": 4,
 "nbformat_minor": 5
}
