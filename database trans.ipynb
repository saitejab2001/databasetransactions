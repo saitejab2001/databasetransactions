{
 "cells": [
  {
   "cell_type": "code",
   "execution_count": 1,
   "metadata": {},
   "outputs": [
    {
     "name": "stdout",
     "output_type": "stream",
     "text": [
      "<connection object at 0x000001B2668F87B0; dsn: 'user=postgres password=xxx dbname=postgres host=localhost', closed: 0>\n"
     ]
    }
   ],
   "source": [
    "import psycopg2\n",
    "from psycopg2 import sql\n",
    "from psycopg2.extensions import ISOLATION_LEVEL_SERIALIZABLE\n",
    "from tabulate import tabulate\n",
    "\n",
    "con = psycopg2.connect(\n",
    "    host= \"localhost\",\n",
    "    database= \"postgres\",\n",
    "    user= \"postgres\",\n",
    "    password= \"S@iteja2\"\n",
    "  )\n",
    "\n",
    "print(con)"
   ]
  },
  {
   "cell_type": "code",
   "execution_count": 2,
   "metadata": {},
   "outputs": [],
   "source": [
    "def execute_transaction(commands):\n",
    "    con = None\n",
    "    try:\n",
    "        con = psycopg2.connect(\n",
    "        host= \"localhost\",\n",
    "        database= \"postgres\",\n",
    "        user= \"postgres\",\n",
    "        password= \"S@iteja2\"\n",
    "    )\n",
    "        con.set_isolation_level(psycopg2.extensions.ISOLATION_LEVEL_SERIALIZABLE)  # Serializable isolation level\n",
    "        cur = con.cursor()\n",
    "\n",
    "        # Executing each command in the transaction\n",
    "        for command in commands:\n",
    "            cur.execute(command)\n",
    "\n",
    "        # Commit the transaction if all commands execute successfully\n",
    "        con.commit()\n",
    "        print(\"Transaction successfully committed.\")\n",
    "\n",
    "    except (Exception, psycopg2.DatabaseError) as error:\n",
    "        print(\"Error occurred:\", error)\n",
    "        # Rollback in case of error\n",
    "        if con:\n",
    "            con.rollback()\n",
    "            print(\"Transaction rolled back.\")\n",
    "\n",
    "    finally:\n",
    "        if cur:\n",
    "            cur.close()\n",
    "        if con:\n",
    "            con.close()\n",
    "        print(\"Database connection is now closed.\")"
   ]
  },
  {
   "cell_type": "code",
   "execution_count": 3,
   "metadata": {},
   "outputs": [
    {
     "name": "stdout",
     "output_type": "stream",
     "text": [
      "Transaction successfully committed.\n",
      "Database connection is now closed.\n"
     ]
    }
   ],
   "source": [
    "drop_tables = \"\"\"\n",
    "DROP TABLE IF EXISTS stock;\n",
    "DROP TABLE IF EXISTS product;\n",
    "DROP TABLE IF EXISTS depot;\n",
    "\"\"\"\n",
    "execute_transaction([drop_tables])"
   ]
  },
  {
   "cell_type": "code",
   "execution_count": 4,
   "metadata": {},
   "outputs": [
    {
     "name": "stdout",
     "output_type": "stream",
     "text": [
      "Transaction successfully committed.\n",
      "Database connection is now closed.\n"
     ]
    }
   ],
   "source": [
    "create_tables = \"\"\"\n",
    "\n",
    "CREATE TABLE IF NOT EXISTS product (\n",
    "    prodid VARCHAR(4),\n",
    "    pname VARCHAR(50),\n",
    "    price DECIMAL(10, 2)\n",
    ");\n",
    "\n",
    "CREATE TABLE IF NOT EXISTS depot (\n",
    "    depid VARCHAR(5),\n",
    "    addr VARCHAR(50),\n",
    "    volume INT\n",
    ");\n",
    "\n",
    "CREATE TABLE IF NOT EXISTS stock (\n",
    "    prodid VARCHAR(4),\n",
    "    depid VARCHAR(4),\n",
    "    quantity INT\n",
    ");\n",
    "\"\"\"\n",
    "\n",
    "execute_transaction([create_tables])"
   ]
  },
  {
   "cell_type": "code",
   "execution_count": 5,
   "metadata": {},
   "outputs": [
    {
     "name": "stdout",
     "output_type": "stream",
     "text": [
      "Transaction successfully committed.\n",
      "Database connection is now closed.\n"
     ]
    }
   ],
   "source": [
    "alter_commands = \"\"\"\n",
    "ALTER TABLE Product ADD CONSTRAINT pk_product PRIMARY KEY (prodid);\n",
    "ALTER TABLE Product ADD CONSTRAINT ck_product_price CHECK (price > 0);\n",
    "ALTER TABLE depot ADD CONSTRAINT pk_depot PRIMARY KEY (depid);\n",
    "ALTER TABLE stock ADD CONSTRAINT pk_stock PRIMARY KEY (prodid,depid);\n",
    "ALTER TABLE stock ADD CONSTRAINT fk_product FOREIGN KEY (prodid) REFERENCES product(prodid);\n",
    "ALTER TABLE stock ADD CONSTRAINT fk_depot FOREIGN KEY (depid) REFERENCES depot(depid);\n",
    "\"\"\"\n",
    "execute_transaction([alter_commands])"
   ]
  },
  {
   "cell_type": "code",
   "execution_count": 6,
   "metadata": {},
   "outputs": [
    {
     "name": "stdout",
     "output_type": "stream",
     "text": [
      "Transaction successfully committed.\n",
      "Database connection is now closed.\n"
     ]
    }
   ],
   "source": [
    "insert_values = \"\"\"\n",
    "INSERT INTO product (prodid, pname, price)\n",
    "VALUES \n",
    "    ('p1', 'tape', 2.5),\n",
    "    ('p2', 'tv', 250),\n",
    "    ('p3', 'vcr', 80);\n",
    "\n",
    "INSERT INTO depot (depid, addr, volume)\n",
    "VALUES ('d1', 'NEW YORK', 9000),\n",
    "       ('d2', 'Syracuse', 6000),\n",
    "       ('d4', 'NEW YORK', 2000);\n",
    "\n",
    "INSERT INTO stock (prodid, depid, quantity)\n",
    "VALUES \n",
    "    ('p1', 'd1', 1000),\n",
    "    ('p1', 'd2', -100),\n",
    "    ('p1', 'd4', 1200),\n",
    "    ('p3', 'd1', 3000),\n",
    "    ('p3', 'd4', 2000),\n",
    "    ('p2', 'd4', 1500),\n",
    "    ('p2', 'd1', -400),\n",
    "    ('p2', 'd2', 2000);\n",
    "\"\"\"\n",
    "execute_transaction([insert_values])"
   ]
  },
  {
   "cell_type": "code",
   "execution_count": 7,
   "metadata": {},
   "outputs": [
    {
     "name": "stdout",
     "output_type": "stream",
     "text": [
      "Transaction successfully committed.\n",
      "Database connection is now closed.\n"
     ]
    }
   ],
   "source": [
    "transaction_2 = [\n",
    "    \"ALTER TABLE Stock DROP CONSTRAINT IF EXISTS fk_product;\"\n",
    "    \"UPDATE stock SET prodid = 'pp1' WHERE prodid = 'p1';\"\n",
    "    \"UPDATE product SET prodid = 'pp1' WHERE prodid = 'p1';\"\n",
    "    \"ALTER TABLE Stock ADD CONSTRAINT fk_product FOREIGN KEY (prodid) REFERENCES product(prodid) DEFERRABLE INITIALLY IMMEDIATE;\"\n",
    "]\n",
    "\n",
    "\"Rollback;\"\n",
    "\n",
    "execute_transaction(transaction_2)"
   ]
  },
  {
   "cell_type": "code",
   "execution_count": 8,
   "metadata": {},
   "outputs": [
    {
     "name": "stdout",
     "output_type": "stream",
     "text": [
      "Transaction successfully committed.\n",
      "Database connection is now closed.\n"
     ]
    }
   ],
   "source": [
    "transaction_1= [\n",
    "    \n",
    "    \"ALTER TABLE Stock DROP CONSTRAINT IF EXISTS fk_depot;\"\n",
    "    \"UPDATE stock SET depid = 'dd1' WHERE depid = 'd1';\"\n",
    "    \"UPDATE depot SET depid = 'dd1' WHERE depid = 'd1';\"\n",
    "    \"ALTER TABLE Stock ADD CONSTRAINT fk_depot FOREIGN KEY (depid) REFERENCES depot(depid) DEFERRABLE INITIALLY IMMEDIATE;\"\n",
    "]\n",
    "\n",
    "\"Rollback;\"\n",
    "\n",
    "execute_transaction(transaction_1)"
   ]
  },
  {
   "cell_type": "code",
   "execution_count": null,
   "metadata": {},
   "outputs": [],
   "source": []
  }
 ],
 "metadata": {
  "kernelspec": {
   "display_name": "Python 3",
   "language": "python",
   "name": "python3"
  },
  "language_info": {
   "codemirror_mode": {
    "name": "ipython",
    "version": 3
   },
   "file_extension": ".py",
   "mimetype": "text/x-python",
   "name": "python",
   "nbconvert_exporter": "python",
   "pygments_lexer": "ipython3",
   "version": "3.12.2"
  }
 },
 "nbformat": 4,
 "nbformat_minor": 2
}
